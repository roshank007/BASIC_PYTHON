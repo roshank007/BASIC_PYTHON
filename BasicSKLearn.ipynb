{
  "nbformat": 4,
  "nbformat_minor": 0,
  "metadata": {
    "colab": {
      "name": "BasicSKLearn.ipynb",
      "provenance": [],
      "collapsed_sections": []
    },
    "kernelspec": {
      "name": "python3",
      "display_name": "Python 3"
    },
    "language_info": {
      "name": "python"
    }
  },
  "cells": [
    {
      "cell_type": "code",
      "execution_count": null,
      "metadata": {
        "id": "u-If9N30n94O"
      },
      "outputs": [],
      "source": [
        "##ROSHAN KALYANI\n",
        "##PYTHON VERSION 3.10"
      ]
    },
    {
      "cell_type": "code",
      "source": [
        "#All credits to 'Scikit-learn: Machine Learning in Python, Pedregosa et al., JMLR 12, pp. 2825-2830, 2011'"
      ],
      "metadata": {
        "id": "X4IPFSuTzB2D"
      },
      "execution_count": null,
      "outputs": []
    },
    {
      "cell_type": "code",
      "source": [
        "##Remove Hashtag and run to check wether Sklearn is working or not in your local machine\n",
        "\n",
        "#!pip install sklearn"
      ],
      "metadata": {
        "id": "oTgo_LRbql6f"
      },
      "execution_count": null,
      "outputs": []
    },
    {
      "cell_type": "markdown",
      "source": [
        "Here I will Run some features of **sklearn** library.\n",
        "\n",
        "It has various **classification**, **regression** and **clustering** algorithms. *italicized text*"
      ],
      "metadata": {
        "id": "7_UmVaPXsSgY"
      }
    },
    {
      "cell_type": "code",
      "source": [
        "from sklearn import neighbors,datasets,preprocessing\n",
        "from sklearn.model_selection import train_test_split\n",
        "from sklearn.metrics import accuracy_score"
      ],
      "metadata": {
        "id": "SMJrDsLQoGcj"
      },
      "execution_count": 2,
      "outputs": []
    },
    {
      "cell_type": "code",
      "source": [
        "iris = datasets.load_iris()"
      ],
      "metadata": {
        "id": "fQ7CxKA1pmfK"
      },
      "execution_count": null,
      "outputs": []
    },
    {
      "cell_type": "code",
      "source": [
        "X,y = iris.data[:,:2], iris.target"
      ],
      "metadata": {
        "id": "PhBy0ZOzpyv1"
      },
      "execution_count": null,
      "outputs": []
    },
    {
      "cell_type": "code",
      "source": [
        "X_train, X_test, y_train, y_test=train_test_split(X,y)"
      ],
      "metadata": {
        "id": "KCnnUJpkqGIQ"
      },
      "execution_count": null,
      "outputs": []
    },
    {
      "cell_type": "code",
      "source": [
        "scaler = preprocessing.StandardScaler().fit(X_train)"
      ],
      "metadata": {
        "id": "OFxE04OPqJJb"
      },
      "execution_count": null,
      "outputs": []
    },
    {
      "cell_type": "code",
      "source": [
        "X_train = scaler.transform(X_train)\n",
        "X_test = scaler.transform(X_test)"
      ],
      "metadata": {
        "id": "7TRwmi8vrOH1"
      },
      "execution_count": null,
      "outputs": []
    },
    {
      "cell_type": "code",
      "source": [
        "knn = neighbors.KNeighborsClassifier(n_neighbors = 5)"
      ],
      "metadata": {
        "id": "zIq5QTlprb95"
      },
      "execution_count": null,
      "outputs": []
    },
    {
      "cell_type": "code",
      "source": [
        "knn.fit(X_train, y_train)"
      ],
      "metadata": {
        "id": "cabPHdnYr58H"
      },
      "execution_count": null,
      "outputs": []
    },
    {
      "cell_type": "code",
      "source": [
        "y_pred = knn.predict(X_test)"
      ],
      "metadata": {
        "id": "6vpLGOcQr8l9"
      },
      "execution_count": null,
      "outputs": []
    },
    {
      "cell_type": "code",
      "source": [
        "accuracy_score(y_test, y_pred)"
      ],
      "metadata": {
        "colab": {
          "base_uri": "https://localhost:8080/"
        },
        "id": "VM1CbyF_r9pN",
        "outputId": "d51a2bd5-09e8-49d9-e81f-f9f461fe9145"
      },
      "execution_count": null,
      "outputs": [
        {
          "output_type": "execute_result",
          "data": {
            "text/plain": [
              "0.2894736842105263"
            ]
          },
          "metadata": {},
          "execution_count": 34
        }
      ]
    },
    {
      "cell_type": "code",
      "source": [
        "##LOADING"
      ],
      "metadata": {
        "id": "na_pDM7_s-Fp"
      },
      "execution_count": null,
      "outputs": []
    },
    {
      "cell_type": "code",
      "source": [
        "import numpy as np"
      ],
      "metadata": {
        "id": "0qd5XX8ts-JM"
      },
      "execution_count": 3,
      "outputs": []
    },
    {
      "cell_type": "code",
      "source": [
        "X = np.random.random((10,5))"
      ],
      "metadata": {
        "id": "QYMLe0bttEFb"
      },
      "execution_count": 4,
      "outputs": []
    },
    {
      "cell_type": "code",
      "source": [
        "X"
      ],
      "metadata": {
        "colab": {
          "base_uri": "https://localhost:8080/"
        },
        "id": "u116WWlTtKUV",
        "outputId": "91f3fb41-31dc-4440-fdc1-874f4a280f9d"
      },
      "execution_count": 5,
      "outputs": [
        {
          "output_type": "execute_result",
          "data": {
            "text/plain": [
              "array([[0.78705957, 0.27352314, 0.85400341, 0.44051438, 0.437271  ],\n",
              "       [0.33476485, 0.74543572, 0.79474981, 0.5890866 , 0.09224737],\n",
              "       [0.80583011, 0.67974671, 0.07387495, 0.58771734, 0.78255505],\n",
              "       [0.63134872, 0.783162  , 0.50327692, 0.57748029, 0.09069891],\n",
              "       [0.82069576, 0.31104472, 0.36544399, 0.36123895, 0.25649657],\n",
              "       [0.50635957, 0.13425727, 0.49039498, 0.00367533, 0.93764038],\n",
              "       [0.25663541, 0.5574212 , 0.68771502, 0.92549973, 0.20180577],\n",
              "       [0.9270514 , 0.51261626, 0.54065113, 0.26216148, 0.8746133 ],\n",
              "       [0.05613732, 0.5700696 , 0.57478536, 0.05828137, 0.3221159 ],\n",
              "       [0.70105786, 0.52897418, 0.05133868, 0.24453389, 0.33814421]])"
            ]
          },
          "metadata": {},
          "execution_count": 5
        }
      ]
    },
    {
      "cell_type": "code",
      "source": [
        "y = ['A','B','A','A','B','A','A','B','A','A']"
      ],
      "metadata": {
        "id": "5GDi61mstQqL"
      },
      "execution_count": 9,
      "outputs": []
    },
    {
      "cell_type": "code",
      "source": [
        "y"
      ],
      "metadata": {
        "colab": {
          "base_uri": "https://localhost:8080/"
        },
        "id": "xw5G53mutUF1",
        "outputId": "d8a6f2a2-c8f1-4ec5-d1e5-5ca0b54eb971"
      },
      "execution_count": 10,
      "outputs": [
        {
          "output_type": "execute_result",
          "data": {
            "text/plain": [
              "['A', 'B', 'A', 'A', 'B', 'A', 'A', 'B', 'A', 'A']"
            ]
          },
          "metadata": {},
          "execution_count": 10
        }
      ]
    },
    {
      "cell_type": "markdown",
      "source": [
        "**Training and Testing Dataset**"
      ],
      "metadata": {
        "id": "NxMd49k7xHP3"
      }
    },
    {
      "cell_type": "code",
      "source": [
        "from sklearn.model_selection import train_test_split\n",
        "\n",
        "#spliting train and test dataset\n",
        "X_train,X_test,y_train,y_test = train_test_split(X,y,\n",
        "random_state = 0)"
      ],
      "metadata": {
        "id": "rAlblAywxCr4"
      },
      "execution_count": null,
      "outputs": []
    },
    {
      "cell_type": "markdown",
      "source": [
        "**PreProcessing Dataset**"
      ],
      "metadata": {
        "id": "TQI7g33WxoV8"
      }
    },
    {
      "cell_type": "markdown",
      "source": [
        "**Standardization** : Standardizes the features by removing the mean and scaling to unit variance.\n",
        "\n",
        "\n",
        "```\n",
        "# This is formatted as code\n",
        "```\n",
        "\n"
      ],
      "metadata": {
        "id": "GkW04FI_xxEe"
      }
    },
    {
      "cell_type": "code",
      "source": [
        "from sklearn.preprocessing import StandardScaler\n",
        "scaler = StandardScaler().fit(X_train)\n",
        "standarized_X = scaler.transform(X_train)\n",
        "standarized_X_test = scaler.transform(X_test)"
      ],
      "metadata": {
        "id": "wz6TdK4KxmAd"
      },
      "execution_count": null,
      "outputs": []
    },
    {
      "cell_type": "markdown",
      "source": [
        "**Normalization** : Each sample (row of the data matrix) with at least one non-zero component is rescaled independently of other samples so that its norm equals one.\n"
      ],
      "metadata": {
        "id": "D7--dDwEx90g"
      }
    },
    {
      "cell_type": "code",
      "source": [
        "from sklearn.preprocessing import Normalizer\n",
        "scaler = Normalizer().fit(X_train)\n",
        "normalized_X = scaler.transform(X_train)\n",
        "normalized_X_test = scaler.transform(X_test)"
      ],
      "metadata": {
        "id": "oJqvJ7m4ydly"
      },
      "execution_count": null,
      "outputs": []
    },
    {
      "cell_type": "markdown",
      "source": [
        "**Binarization** : Binarize data (set feature values to 0 or 1) according to a threshold.\n"
      ],
      "metadata": {
        "id": "cus13APj2MRz"
      }
    },
    {
      "cell_type": "code",
      "source": [
        "from sklearn.preprocessing import Binarizer\n",
        "binarizer = Binarizer(threshold = 0.0).fit(X)\n",
        "binary_X = binarizer.transform(X_test)"
      ],
      "metadata": {
        "id": "d20iiZk92J2Y"
      },
      "execution_count": null,
      "outputs": []
    },
    {
      "cell_type": "markdown",
      "source": [
        "**Encoding Categorical Features** : Imputation transformer for completing missing values.\n"
      ],
      "metadata": {
        "id": "WGEUi33d2dXx"
      }
    },
    {
      "cell_type": "code",
      "source": [
        "from sklearn import preprocessing\n",
        "le = preprocessing.LabelEncoder()\n",
        "le.fit_transform(X_train)"
      ],
      "metadata": {
        "id": "-nCFeD_n2ZZr"
      },
      "execution_count": null,
      "outputs": []
    },
    {
      "cell_type": "markdown",
      "source": [
        "**Imputing Missing Values** :"
      ],
      "metadata": {
        "id": "4dXa3jQ04VQh"
      }
    },
    {
      "cell_type": "code",
      "source": [
        "from sklearn.impute import SimpleImputer\n",
        "imp = SimpleImputer(missing_values=0, strategy ='mean')\n",
        "imp.fit_transform(X_train)"
      ],
      "metadata": {
        "colab": {
          "base_uri": "https://localhost:8080/"
        },
        "id": "I9ZSNnPJ4SCN",
        "outputId": "dddd398c-57c1-4c34-8534-fa125eb285de"
      },
      "execution_count": null,
      "outputs": [
        {
          "output_type": "execute_result",
          "data": {
            "text/plain": [
              "array([[0.14439921, 0.39604162, 0.67240878, 0.1609183 , 0.76065976],\n",
              "       [0.75346957, 0.21120363, 0.53475426, 0.65476931, 0.69031367],\n",
              "       [0.39808265, 0.95251808, 0.7575469 , 0.37602661, 0.56258183],\n",
              "       [0.73918893, 0.64206855, 0.26834369, 0.92925575, 0.73083936],\n",
              "       [0.47762379, 0.52892873, 0.91574949, 0.86719635, 0.04729763],\n",
              "       [0.44475736, 0.30986814, 0.16359246, 0.67815904, 0.99559743],\n",
              "       [0.23151838, 0.68880048, 0.99544816, 0.15708435, 0.65775932]])"
            ]
          },
          "metadata": {},
          "execution_count": 66
        }
      ]
    },
    {
      "cell_type": "markdown",
      "source": [
        "**Generating Polynomial Features** :"
      ],
      "metadata": {
        "id": "384YHODx4lNw"
      }
    },
    {
      "cell_type": "code",
      "source": [
        "from sklearn.preprocessing import PolynomialFeatures\n",
        "poly = PolynomialFeatures(5)\n",
        "poly.fit_transform(X)"
      ],
      "metadata": {
        "colab": {
          "base_uri": "https://localhost:8080/"
        },
        "id": "_6b5-o0_4hMh",
        "outputId": "78903957-c9f4-488d-944b-99a68b2ddd32"
      },
      "execution_count": null,
      "outputs": [
        {
          "output_type": "execute_result",
          "data": {
            "text/plain": [
              "array([[1.00000000e+00, 4.44757359e-01, 3.09868138e-01, ...,\n",
              "        4.53852162e-01, 6.66295096e-01, 9.78180105e-01],\n",
              "       [1.00000000e+00, 7.53469566e-01, 2.11203635e-01, ...,\n",
              "        1.41031474e-01, 1.48687413e-01, 1.56758958e-01],\n",
              "       [1.00000000e+00, 2.70789310e-01, 7.33302323e-01, ...,\n",
              "        5.46952931e-03, 4.25769020e-03, 3.31434842e-03],\n",
              "       ...,\n",
              "       [1.00000000e+00, 7.39188933e-01, 6.42068550e-01, ...,\n",
              "        3.37082570e-01, 2.65108083e-01, 2.08501720e-01],\n",
              "       [1.00000000e+00, 3.10530376e-01, 6.86968798e-01, ...,\n",
              "        2.74919422e-04, 3.13187589e-05, 3.56782599e-06],\n",
              "       [1.00000000e+00, 1.44399209e-01, 3.96041621e-01, ...,\n",
              "        1.13967811e-02, 5.38725097e-02, 2.54655002e-01]])"
            ]
          },
          "metadata": {},
          "execution_count": 67
        }
      ]
    },
    {
      "cell_type": "markdown",
      "source": [
        "\n",
        "**Supervised Learning Models**"
      ],
      "metadata": {
        "id": "Lk25eZwRt2HN"
      }
    },
    {
      "cell_type": "code",
      "source": [
        "## Linear Regression\n",
        "from sklearn.linear_model import LinearRegression\n",
        "lr = LinearRegression(normalize = True)"
      ],
      "metadata": {
        "id": "bqHzGSDpttR-"
      },
      "execution_count": null,
      "outputs": []
    },
    {
      "cell_type": "code",
      "source": [
        "## Support Vector Machine (SVM)\n",
        "from sklearn.svm import SVC\n",
        "svc = SVC(kernel = 'linear')"
      ],
      "metadata": {
        "id": "g2Vn8BZVuHH_"
      },
      "execution_count": null,
      "outputs": []
    },
    {
      "cell_type": "code",
      "source": [
        "## Naive Bayes\n",
        "from sklearn.naive_bayes import GaussianNB\n",
        "gnb = GaussianNB()"
      ],
      "metadata": {
        "id": "zYYhyzjOuHMF"
      },
      "execution_count": null,
      "outputs": []
    },
    {
      "cell_type": "code",
      "source": [
        "##KNN\n",
        "from sklearn import neighbors\n",
        "knn = neighbors.KNeighborsClassifier(n_neighbors = 5)"
      ],
      "metadata": {
        "id": "nfvNwuwGuHPg"
      },
      "execution_count": null,
      "outputs": []
    },
    {
      "cell_type": "markdown",
      "source": [
        "\n",
        "**UnSupervised Learning Models**"
      ],
      "metadata": {
        "id": "V45ZGUH4ufxW"
      }
    },
    {
      "cell_type": "code",
      "source": [
        "## Principal Component Analysis (PCA)\n",
        "from sklearn.decomposition import PCA\n",
        "pca = PCA(n_components = 0.95)"
      ],
      "metadata": {
        "id": "1aWv70V2ulma"
      },
      "execution_count": null,
      "outputs": []
    },
    {
      "cell_type": "code",
      "source": [
        "## K-means\n",
        "from sklearn.cluster import KMeans\n",
        "k_means = KMeans(n_clusters = 3, random_state = 0)"
      ],
      "metadata": {
        "id": "avBmL5bLuwtL"
      },
      "execution_count": null,
      "outputs": []
    },
    {
      "cell_type": "markdown",
      "source": [
        "**Model Fitting**"
      ],
      "metadata": {
        "id": "2bYOSjEmu8NL"
      }
    },
    {
      "cell_type": "code",
      "source": [
        "## Fitting Learning Moddels ( Supervised and Unsupervised )\n",
        "\n",
        "#Fit the model to the data\n",
        "\n",
        "lr.fit(X, y)\n",
        "knn.fit(X_train,y_train)\n",
        "svc.fit(X_train,y_train)"
      ],
      "metadata": {
        "colab": {
          "base_uri": "https://localhost:8080/"
        },
        "id": "I4UKpcyKu7Fd",
        "outputId": "7fa1760b-6652-4c5c-ea43-5f231d75dada"
      },
      "execution_count": null,
      "outputs": [
        {
          "output_type": "execute_result",
          "data": {
            "text/plain": [
              "SVC(kernel='linear')"
            ]
          },
          "metadata": {},
          "execution_count": 49
        }
      ]
    },
    {
      "cell_type": "code",
      "source": [
        "k_means.fit(X_train) \n",
        "pca_model = pca.fit_transform(X_train)  #Fit to data,then transform"
      ],
      "metadata": {
        "id": "_IGwrh0NwFQK"
      },
      "execution_count": null,
      "outputs": []
    },
    {
      "cell_type": "markdown",
      "source": [
        "**Prediction**"
      ],
      "metadata": {
        "id": "M8V7ihElwYQJ"
      }
    },
    {
      "cell_type": "code",
      "source": [
        "#Predicting Label\n",
        "y_pred = lr.predict(X_test) #Supervised Estimators\n",
        "y_pred = k_means.predict(X_test) #Unsupervised Estimators"
      ],
      "metadata": {
        "id": "bFAOru63wTm2"
      },
      "execution_count": null,
      "outputs": []
    },
    {
      "cell_type": "code",
      "source": [
        "## Estimate a probability of a label\n",
        "y_pred = knn.predict_proba(X_test)"
      ],
      "metadata": {
        "id": "zSR8n9mhwmUy"
      },
      "execution_count": null,
      "outputs": []
    },
    {
      "cell_type": "markdown",
      "source": [
        "**Evaluate Your Model’s Performance** :"
      ],
      "metadata": {
        "id": "pl_ii6sI5XTr"
      }
    },
    {
      "cell_type": "markdown",
      "source": [
        "**Classification Metrics**"
      ],
      "metadata": {
        "id": "3xtYbDd85kZ8"
      }
    },
    {
      "cell_type": "markdown",
      "source": [
        "**Accuracy Score** :"
      ],
      "metadata": {
        "id": "ibT7-NxG5kQB"
      }
    },
    {
      "cell_type": "code",
      "source": [
        "knn.score(X_test,y_test)\n",
        "from sklearn.metrics import accuracy_score\n",
        "accuracy_score(y_test,y_pred)"
      ],
      "metadata": {
        "id": "PrHSj0nM5TxG"
      },
      "execution_count": null,
      "outputs": []
    },
    {
      "cell_type": "markdown",
      "source": [
        "**Classification Report** :"
      ],
      "metadata": {
        "id": "HwiBKxg06BFn"
      }
    },
    {
      "cell_type": "code",
      "source": [
        "from sklearn.metrics import classification_report\n",
        "print(classification_report(y_test,y_pred))"
      ],
      "metadata": {
        "id": "6xELPIjz6Gy8"
      },
      "execution_count": null,
      "outputs": []
    },
    {
      "cell_type": "markdown",
      "source": [
        "**Confusion Matrix** :"
      ],
      "metadata": {
        "id": "0mDnU4YB6S5w"
      }
    },
    {
      "cell_type": "code",
      "source": [
        "from sklearn .metrics import confusion_matrix\n",
        "print(confusion_matrix(y_test,y_pred))"
      ],
      "metadata": {
        "id": "Zdc-7FL-6O1V"
      },
      "execution_count": null,
      "outputs": []
    },
    {
      "cell_type": "markdown",
      "source": [
        "**Regression Metrics**"
      ],
      "metadata": {
        "id": "B3NsrZn36yL3"
      }
    },
    {
      "cell_type": "markdown",
      "source": [
        "**Mean Absolute Error (MAE)** :"
      ],
      "metadata": {
        "id": "FsSHvWbJ6yPa"
      }
    },
    {
      "cell_type": "code",
      "source": [
        "from sklearn.metrics import mean_absolute_error\n",
        "mean_absolute_error(y_test,y_pred)"
      ],
      "metadata": {
        "id": "kAwMSbbE6j3e"
      },
      "execution_count": null,
      "outputs": []
    },
    {
      "cell_type": "markdown",
      "source": [
        "**Mean Squared Error (MSE)**"
      ],
      "metadata": {
        "id": "519Mt6Rg7LVi"
      }
    },
    {
      "cell_type": "code",
      "source": [
        "from sklearn.metrics import mean_squared_error\n",
        "mean_squared_error(y_test,y_pred)"
      ],
      "metadata": {
        "id": "N5G9XoXr7Ic8"
      },
      "execution_count": null,
      "outputs": []
    },
    {
      "cell_type": "markdown",
      "source": [
        "**R² Score**"
      ],
      "metadata": {
        "id": "tNCdxIQw7a_1"
      }
    },
    {
      "cell_type": "code",
      "source": [
        "from sklearn.metrics import r2_score\n",
        "r2_score(y_test, y_pred)"
      ],
      "metadata": {
        "id": "GDF2BipK7aOA"
      },
      "execution_count": null,
      "outputs": []
    },
    {
      "cell_type": "markdown",
      "source": [
        "**Clustering Metrics**"
      ],
      "metadata": {
        "id": "NN-17yzD8H2T"
      }
    },
    {
      "cell_type": "markdown",
      "source": [
        "**Adjusted Rand Index**"
      ],
      "metadata": {
        "id": "6hlnRk9Z8M1s"
      }
    },
    {
      "cell_type": "code",
      "source": [
        "from sklearn.metrics import adjusted_rand_score\n",
        "adjusted_rand_score(y_test,y_pred)"
      ],
      "metadata": {
        "id": "HhfwQdz58Sqy"
      },
      "execution_count": null,
      "outputs": []
    },
    {
      "cell_type": "markdown",
      "source": [
        "**Homogeneity**"
      ],
      "metadata": {
        "id": "sRB19vwT8ZMx"
      }
    },
    {
      "cell_type": "code",
      "source": [
        "from sklearn.metrics import homogeneity_score\n",
        "homogeneity_score(y_test,y_pred)"
      ],
      "metadata": {
        "id": "IJ7xSk9e8Vrf"
      },
      "execution_count": null,
      "outputs": []
    },
    {
      "cell_type": "markdown",
      "source": [
        "**V-measure**"
      ],
      "metadata": {
        "id": "yZUsvKhz9OLF"
      }
    },
    {
      "cell_type": "code",
      "source": [
        "from sklearn.metrics import v_measure_score\n",
        "v_measure_score(y_test,y_pred)"
      ],
      "metadata": {
        "id": "vJ8WXqVs8YJ0"
      },
      "execution_count": null,
      "outputs": []
    },
    {
      "cell_type": "markdown",
      "source": [
        "**Tune the Model**"
      ],
      "metadata": {
        "id": "NctoKctz_CVI"
      }
    },
    {
      "cell_type": "markdown",
      "source": [
        "**Grid Search**"
      ],
      "metadata": {
        "id": "BMIZlKIo_Ktc"
      }
    },
    {
      "cell_type": "code",
      "source": [
        "from sklearn.model_selection import GridSearchCV\n",
        "params = {'n_neighbors':np.arange(1,3),\n",
        "'metric':['euclidean','cityblock']}\n",
        "grid = GridSearchCV(estimator = knn, param_grid = params)\n",
        "grid.fit(X_train, y_train)\n",
        "print(grid.best_score_)\n",
        "print(grid.best_estimator_)"
      ],
      "metadata": {
        "id": "Hk_pMwCJ_B4w"
      },
      "execution_count": null,
      "outputs": []
    }
  ]
}